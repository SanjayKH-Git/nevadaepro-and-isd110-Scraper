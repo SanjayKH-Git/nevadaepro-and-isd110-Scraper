{
 "cells": [
  {
   "cell_type": "code",
   "execution_count": 10,
   "metadata": {},
   "outputs": [],
   "source": [
    "import requests\n",
    "from bs4 import BeautifulSoup as Bs\n",
    "from lxml import etree\n",
    "import re"
   ]
  },
  {
   "cell_type": "code",
   "execution_count": 49,
   "metadata": {},
   "outputs": [
    {
     "data": {
      "text/plain": [
       "(' Waconia Public Schools',\n",
       " '960 Airport Road Waconia, MN 55387',\n",
       " 'Minnesota',\n",
       " '55387')"
      ]
     },
     "execution_count": 49,
     "metadata": {},
     "output_type": "execute_result"
    }
   ],
   "source": [
    "isd_search_url = \"https://isd110.org/our-schools/laketown-elementary/staff-directory\"\n",
    "isd_search_resp = requests.get(isd_search_url,  headers={'User-Agent': 'Mozilla/5.0'})\n",
    "isd_search_soup = Bs(isd_search_resp.text, \"html.parser\")\n",
    "dom = etree.HTML(str(isd_search_soup))\n",
    "\n",
    "school_name = isd_search_soup.find('title').text.split('|')[1]\n",
    "address_text = isd_search_soup.find('p', class_='address').text.replace('Directions', '')\n",
    "address = re.sub(r'\\s+', ' ', address_text.replace('\\n', '')).strip()\n",
    "state = dom.xpath(\"(//a[contains(., 'Report Card')])[1]/text()\")[0].split()[0]\n",
    "zip = address.split()[-1]\n",
    "\n",
    "school_name, address, state, zip"
   ]
  },
  {
   "cell_type": "code",
   "execution_count": 48,
   "metadata": {},
   "outputs": [
    {
     "name": "stdout",
     "output_type": "stream",
     "text": [
      "------------------------------ Page: 1 ------------------------------\n",
      "['Adams', 'Jennifer', 'Special Education Teacher', 'Staff Directory ', '960 Airport Road Waconia, MN 55387', 'Minnesota', '55387', 'https://isd110.org/our-schools/laketown-elementary/staff-directory?s=&page=0']\n",
      "['Allison', 'Baisch', 'Kindergarten Teacher', 'Staff Directory ', '960 Airport Road Waconia, MN 55387', 'Minnesota', '55387', 'https://isd110.org/our-schools/laketown-elementary/staff-directory?s=&page=0']\n",
      "['Keith', 'Baune', 'Principal', 'Staff Directory ', '960 Airport Road Waconia, MN 55387', 'Minnesota', '55387', 'https://isd110.org/our-schools/laketown-elementary/staff-directory?s=&page=0']\n",
      "['Benham', 'Allyson', 'Grade 2 Teacher', 'Staff Directory ', '960 Airport Road Waconia, MN 55387', 'Minnesota', '55387', 'https://isd110.org/our-schools/laketown-elementary/staff-directory?s=&page=0']\n",
      "['Bessire', 'Jeff', 'Physical Education/DAPE Teacher', 'Staff Directory ', '960 Airport Road Waconia, MN 55387', 'Minnesota', '55387', 'https://isd110.org/our-schools/laketown-elementary/staff-directory?s=&page=0']\n",
      "['Bixby', 'Tyler', 'Educational Assistant (SPED)', 'Staff Directory ', '960 Airport Road Waconia, MN 55387', 'Minnesota', '55387', 'https://isd110.org/our-schools/laketown-elementary/staff-directory?s=&page=0']\n",
      "['Brueggemeier-Swanson', 'Shannon', 'Educational Assistant', 'Staff Directory ', '960 Airport Road Waconia, MN 55387', 'Minnesota', '55387', 'https://isd110.org/our-schools/laketown-elementary/staff-directory?s=&page=0']\n",
      "['Burdick', 'Jessica', 'Learning Disabilities Teacher', 'Staff Directory ', '960 Airport Road Waconia, MN 55387', 'Minnesota', '55387', 'https://isd110.org/our-schools/laketown-elementary/staff-directory?s=&page=0']\n",
      "['Chapman', 'Alycia', 'Custodial/Maintenance Night Lead', 'Staff Directory ', '960 Airport Road Waconia, MN 55387', 'Minnesota', '55387', 'https://isd110.org/our-schools/laketown-elementary/staff-directory?s=&page=0']\n",
      "['Clemensen', 'Thomas', 'Custodial Maintenance', 'Staff Directory ', '960 Airport Road Waconia, MN 55387', 'Minnesota', '55387', 'https://isd110.org/our-schools/laketown-elementary/staff-directory?s=&page=0']\n",
      "------------------------------ Page: 2 ------------------------------\n",
      "['Cordes', 'Michelle', 'Art Teacher', 'Staff Directory ', '960 Airport Road Waconia, MN 55387', 'Minnesota', '55387', 'https://isd110.org/our-schools/laketown-elementary/staff-directory?s=&page=1']\n",
      "['Cory', 'Davidson', 'Health Associate', 'Staff Directory ', '960 Airport Road Waconia, MN 55387', 'Minnesota', '55387', 'https://isd110.org/our-schools/laketown-elementary/staff-directory?s=&page=1']\n",
      "['Deming', 'Jennifer', 'Educational Assistant (SPED)', 'Staff Directory ', '960 Airport Road Waconia, MN 55387', 'Minnesota', '55387', 'https://isd110.org/our-schools/laketown-elementary/staff-directory?s=&page=1']\n",
      "['Emilee', 'Ditsch', 'Grade 1 Teacher', 'Staff Directory ', '960 Airport Road Waconia, MN 55387', 'Minnesota', '55387', 'https://isd110.org/our-schools/laketown-elementary/staff-directory?s=&page=1']\n",
      "['Edeburn', 'Melissa', 'Speech/Language Pathologist Assistant', 'Staff Directory ', '960 Airport Road Waconia, MN 55387', 'Minnesota', '55387', 'https://isd110.org/our-schools/laketown-elementary/staff-directory?s=&page=1']\n",
      "['Eisenmann', 'Nicole', 'Grade 4 Teacher', 'Staff Directory ', '960 Airport Road Waconia, MN 55387', 'Minnesota', '55387', 'https://isd110.org/our-schools/laketown-elementary/staff-directory?s=&page=1']\n",
      "['Esterberg', 'Jacob', 'Instrumental Music Teacher', 'Staff Directory ', '960 Airport Road Waconia, MN 55387', 'Minnesota', '55387', 'https://isd110.org/our-schools/laketown-elementary/staff-directory?s=&page=1']\n",
      "['Forsberg', 'Heather', 'Nutritional Assistant', 'Staff Directory ', '960 Airport Road Waconia, MN 55387', 'Minnesota', '55387', 'https://isd110.org/our-schools/laketown-elementary/staff-directory?s=&page=1']\n",
      "['Franklin', 'Abby', 'Educational Assistant (SPED)', 'Staff Directory ', '960 Airport Road Waconia, MN 55387', 'Minnesota', '55387', 'https://isd110.org/our-schools/laketown-elementary/staff-directory?s=&page=1']\n",
      "['Fredericksen', 'Andrew', 'Developmental Disabilities Teacher', 'Staff Directory ', '960 Airport Road Waconia, MN 55387', 'Minnesota', '55387', 'https://isd110.org/our-schools/laketown-elementary/staff-directory?s=&page=1']\n",
      "------------------------------ Page: 3 ------------------------------\n",
      "['Samantha', 'Gaarder', 'Grade 2 Teacher', 'Staff Directory ', '960 Airport Road Waconia, MN 55387', 'Minnesota', '55387', 'https://isd110.org/our-schools/laketown-elementary/staff-directory?s=&page=2']\n",
      "['Michelle', 'Gorans', 'Licensed School Nurse', 'Staff Directory ', '960 Airport Road Waconia, MN 55387', 'Minnesota', '55387', 'https://isd110.org/our-schools/laketown-elementary/staff-directory?s=&page=2']\n",
      "['Guethling', 'Sara', 'Grade 2 Teacher', 'Staff Directory ', '960 Airport Road Waconia, MN 55387', 'Minnesota', '55387', 'https://isd110.org/our-schools/laketown-elementary/staff-directory?s=&page=2']\n",
      "['Mike', 'Gunderson', 'Educational Assistant', 'Staff Directory ', '960 Airport Road Waconia, MN 55387', 'Minnesota', '55387', 'https://isd110.org/our-schools/laketown-elementary/staff-directory?s=&page=2']\n",
      "['Gustafson', 'Stacy', 'Kindergarten Teacher', 'Staff Directory ', '960 Airport Road Waconia, MN 55387', 'Minnesota', '55387', 'https://isd110.org/our-schools/laketown-elementary/staff-directory?s=&page=2']\n",
      "['Hallermann', 'Sara', 'Deaf and Hard of Hearing Teacher', 'Staff Directory ', '960 Airport Road Waconia, MN 55387', 'Minnesota', '55387', 'https://isd110.org/our-schools/laketown-elementary/staff-directory?s=&page=2']\n",
      "['Haug', 'Jaclyn', 'Educational Assistant (SPED)', 'Staff Directory ', '960 Airport Road Waconia, MN 55387', 'Minnesota', '55387', 'https://isd110.org/our-schools/laketown-elementary/staff-directory?s=&page=2']\n",
      "['Brittany', 'Johnson', 'Grade 3 Teacher', 'Staff Directory ', '960 Airport Road Waconia, MN 55387', 'Minnesota', '55387', 'https://isd110.org/our-schools/laketown-elementary/staff-directory?s=&page=2']\n",
      "['Jones', 'Evan', 'Vocal & Classroom Music Teacher', 'Staff Directory ', '960 Airport Road Waconia, MN 55387', 'Minnesota', '55387', 'https://isd110.org/our-schools/laketown-elementary/staff-directory?s=&page=2']\n",
      "['Jones', 'Lynda', 'Educational Assistant (SPED)', 'Staff Directory ', '960 Airport Road Waconia, MN 55387', 'Minnesota', '55387', 'https://isd110.org/our-schools/laketown-elementary/staff-directory?s=&page=2']\n",
      "------------------------------ Page: 4 ------------------------------\n",
      "['Kalthoff', 'Lisa', 'Grade 4 Teacher', 'Staff Directory ', '960 Airport Road Waconia, MN 55387', 'Minnesota', '55387', 'https://isd110.org/our-schools/laketown-elementary/staff-directory?s=&page=3']\n",
      "['Jillian', 'Kruger', 'Grade 4 Teacher', 'Staff Directory ', '960 Airport Road Waconia, MN 55387', 'Minnesota', '55387', 'https://isd110.org/our-schools/laketown-elementary/staff-directory?s=&page=3']\n",
      "['Larsen', 'Kristin', 'MN Reading Corps', 'Staff Directory ', '960 Airport Road Waconia, MN 55387', 'Minnesota', '55387', 'https://isd110.org/our-schools/laketown-elementary/staff-directory?s=&page=3']\n",
      "['Larson', 'Nicole', 'Educational Assistant (SPED)', 'Staff Directory ', '960 Airport Road Waconia, MN 55387', 'Minnesota', '55387', 'https://isd110.org/our-schools/laketown-elementary/staff-directory?s=&page=3']\n",
      "['LaTour', 'Courtney', 'Kindergarten Teacher', 'Staff Directory ', '960 Airport Road Waconia, MN 55387', 'Minnesota', '55387', 'https://isd110.org/our-schools/laketown-elementary/staff-directory?s=&page=3']\n",
      "['Laumann', 'Tabitha', 'Educational Assistant (SPED)', 'Staff Directory ', '960 Airport Road Waconia, MN 55387', 'Minnesota', '55387', 'https://isd110.org/our-schools/laketown-elementary/staff-directory?s=&page=3']\n",
      "['Ledoux', 'Heather', 'Educational Assistant (SPED)', 'Staff Directory ', '960 Airport Road Waconia, MN 55387', 'Minnesota', '55387', 'https://isd110.org/our-schools/laketown-elementary/staff-directory?s=&page=3']\n",
      "['Lee', 'Heather', 'Educational Assistant (SPED)', 'Staff Directory ', '960 Airport Road Waconia, MN 55387', 'Minnesota', '55387', 'https://isd110.org/our-schools/laketown-elementary/staff-directory?s=&page=3']\n",
      "['Lerfald', 'Karen', 'Special Education Teacher', 'Staff Directory ', '960 Airport Road Waconia, MN 55387', 'Minnesota', '55387', 'https://isd110.org/our-schools/laketown-elementary/staff-directory?s=&page=3']\n",
      "['Sari', 'Mailey', 'Speech/Language Pathologist', 'Staff Directory ', '960 Airport Road Waconia, MN 55387', 'Minnesota', '55387', 'https://isd110.org/our-schools/laketown-elementary/staff-directory?s=&page=3']\n",
      "------------------------------ Page: 5 ------------------------------\n",
      "['Marsden', 'Steve', 'Physical Education Teacher', 'Staff Directory ', '960 Airport Road Waconia, MN 55387', 'Minnesota', '55387', 'https://isd110.org/our-schools/laketown-elementary/staff-directory?s=&page=4']\n",
      "['Mayer', 'Mindy', 'Educational Assistant', 'Staff Directory ', '960 Airport Road Waconia, MN 55387', 'Minnesota', '55387', 'https://isd110.org/our-schools/laketown-elementary/staff-directory?s=&page=4']\n",
      "['McKeever', 'Lorae', 'Speech/Language Pathologist', 'Staff Directory ', '960 Airport Road Waconia, MN 55387', 'Minnesota', '55387', 'https://isd110.org/our-schools/laketown-elementary/staff-directory?s=&page=4']\n",
      "['Devin', 'McNeill', 'Grade 5 Teacher', 'Staff Directory ', '960 Airport Road Waconia, MN 55387', 'Minnesota', '55387', 'https://isd110.org/our-schools/laketown-elementary/staff-directory?s=&page=4']\n",
      "['Nenovich', 'Katelyn', 'MN Reading Corps', 'Staff Directory ', '960 Airport Road Waconia, MN 55387', 'Minnesota', '55387', 'https://isd110.org/our-schools/laketown-elementary/staff-directory?s=&page=4']\n",
      "['Olson', 'Kim', 'Administrative Assistant I', 'Staff Directory ', '960 Airport Road Waconia, MN 55387', 'Minnesota', '55387', 'https://isd110.org/our-schools/laketown-elementary/staff-directory?s=&page=4']\n",
      "['Molly', 'Oscarson', 'Kindergarten Teacher', 'Staff Directory ', '960 Airport Road Waconia, MN 55387', 'Minnesota', '55387', 'https://isd110.org/our-schools/laketown-elementary/staff-directory?s=&page=4']\n",
      "['Poehler', 'Sommer', \"Kids' Company Lead\", 'Staff Directory ', '960 Airport Road Waconia, MN 55387', 'Minnesota', '55387', 'https://isd110.org/our-schools/laketown-elementary/staff-directory?s=&page=4']\n",
      "['Lauren', 'Reed', 'Grade 1 Teacher', 'Staff Directory ', '960 Airport Road Waconia, MN 55387', 'Minnesota', '55387', 'https://isd110.org/our-schools/laketown-elementary/staff-directory?s=&page=4']\n",
      "['Linda', 'Scholla', 'Special Education Teacher', 'Staff Directory ', '960 Airport Road Waconia, MN 55387', 'Minnesota', '55387', 'https://isd110.org/our-schools/laketown-elementary/staff-directory?s=&page=4']\n",
      "------------------------------ Page: 6 ------------------------------\n",
      "['Schwab', 'Amy', 'Head Cook', 'Staff Directory ', '960 Airport Road Waconia, MN 55387', 'Minnesota', '55387', 'https://isd110.org/our-schools/laketown-elementary/staff-directory?s=&page=5']\n",
      "['Seltz', 'Andy', 'Day Lead Custodian', 'Staff Directory ', '960 Airport Road Waconia, MN 55387', 'Minnesota', '55387', 'https://isd110.org/our-schools/laketown-elementary/staff-directory?s=&page=5']\n",
      "['Genell', 'Siemens', 'Elementary Principal Secretary', 'Staff Directory ', '960 Airport Road Waconia, MN 55387', 'Minnesota', '55387', 'https://isd110.org/our-schools/laketown-elementary/staff-directory?s=&page=5']\n",
      "['Heidi', 'Skerik', 'Grade 3 Teacher', 'Staff Directory ', '960 Airport Road Waconia, MN 55387', 'Minnesota', '55387', 'https://isd110.org/our-schools/laketown-elementary/staff-directory?s=&page=5']\n",
      "['Jeffrey', 'Smith', \"Kids' Company Lead / Educational Assistant\", 'Staff Directory ', '960 Airport Road Waconia, MN 55387', 'Minnesota', '55387', 'https://isd110.org/our-schools/laketown-elementary/staff-directory?s=&page=5']\n",
      "['Smith', 'Keyla', 'Educational Assistant (SPED)', 'Staff Directory ', '960 Airport Road Waconia, MN 55387', 'Minnesota', '55387', 'https://isd110.org/our-schools/laketown-elementary/staff-directory?s=&page=5']\n",
      "['Linda', 'Stark', 'Nutritional Assistant', 'Staff Directory ', '960 Airport Road Waconia, MN 55387', 'Minnesota', '55387', 'https://isd110.org/our-schools/laketown-elementary/staff-directory?s=&page=5']\n",
      "['Steinhagen', 'Jennifer', 'Educational Assistant', 'Staff Directory ', '960 Airport Road Waconia, MN 55387', 'Minnesota', '55387', 'https://isd110.org/our-schools/laketown-elementary/staff-directory?s=&page=5']\n",
      "['Amanda', 'Stejskal', 'Grade 2 Teacher', 'Staff Directory ', '960 Airport Road Waconia, MN 55387', 'Minnesota', '55387', 'https://isd110.org/our-schools/laketown-elementary/staff-directory?s=&page=5']\n",
      "['Mary', 'Stifter', 'Assistant Head Cook', 'Staff Directory ', '960 Airport Road Waconia, MN 55387', 'Minnesota', '55387', 'https://isd110.org/our-schools/laketown-elementary/staff-directory?s=&page=5']\n",
      "------------------------------ Page: 7 ------------------------------\n",
      "['Stockinger', 'Heather', 'Grade 3 Teacher', 'Staff Directory ', '960 Airport Road Waconia, MN 55387', 'Minnesota', '55387', 'https://isd110.org/our-schools/laketown-elementary/staff-directory?s=&page=6']\n",
      "['Thaemert', 'Katherine', 'Educational Assistant', 'Staff Directory ', '960 Airport Road Waconia, MN 55387', 'Minnesota', '55387', 'https://isd110.org/our-schools/laketown-elementary/staff-directory?s=&page=6']\n",
      "['Andrea', 'Turnquist', 'Reading Specialist', 'Staff Directory ', '960 Airport Road Waconia, MN 55387', 'Minnesota', '55387', 'https://isd110.org/our-schools/laketown-elementary/staff-directory?s=&page=6']\n",
      "['Van Eyll', 'Toni', 'Occupational Therapist', 'Staff Directory ', '960 Airport Road Waconia, MN 55387', 'Minnesota', '55387', 'https://isd110.org/our-schools/laketown-elementary/staff-directory?s=&page=6']\n",
      "['Walker', 'Bethany', 'Grade 1 Teacher', 'Staff Directory ', '960 Airport Road Waconia, MN 55387', 'Minnesota', '55387', 'https://isd110.org/our-schools/laketown-elementary/staff-directory?s=&page=6']\n",
      "['Susan', 'Watts', 'Educational Assistant (SPED)', 'Staff Directory ', '960 Airport Road Waconia, MN 55387', 'Minnesota', '55387', 'https://isd110.org/our-schools/laketown-elementary/staff-directory?s=&page=6']\n",
      "['Corey', 'Wedge', 'Grade 5 Teacher', 'Staff Directory ', '960 Airport Road Waconia, MN 55387', 'Minnesota', '55387', 'https://isd110.org/our-schools/laketown-elementary/staff-directory?s=&page=6']\n",
      "['Kasja', 'Williamson', 'Emotional Behavior Disorders Teacher', 'Staff Directory ', '960 Airport Road Waconia, MN 55387', 'Minnesota', '55387', 'https://isd110.org/our-schools/laketown-elementary/staff-directory?s=&page=6']\n",
      "['Yang', 'Vatoua', 'Technology Support Specialist', 'Staff Directory ', '960 Airport Road Waconia, MN 55387', 'Minnesota', '55387', 'https://isd110.org/our-schools/laketown-elementary/staff-directory?s=&page=6']\n"
     ]
    }
   ],
   "source": [
    "for p in range(7):\n",
    "    page_url = f\"{isd_search_url}?s=&page={p}\"\n",
    "    isd_search_resp = requests.get(page_url,  headers={'User-Agent': 'Mozilla/5.0'})\n",
    "    isd_search_soup = Bs(isd_search_resp.text, \"html.parser\")\n",
    "    print(f\"------------------------------ Page: {p+1} ------------------------------\")\n",
    "    card_list = isd_search_soup.find_all('div', class_='views-row')\n",
    "    for card in card_list:\n",
    "        name = card.find('h2').text\n",
    "        first_name, last_name = set(name.split(', '))\n",
    "        title = card.find('div', class_='field job-title').text.strip()\n",
    "        \n",
    "        staff_data = [first_name, last_name, title, school_name, address, state, zip, page_url]\n",
    "        print(staff_data)"
   ]
  },
  {
   "cell_type": "code",
   "execution_count": 41,
   "metadata": {},
   "outputs": [
    {
     "name": "stdout",
     "output_type": "stream",
     "text": [
      "Adams Jennifer Special Education Teacher\n",
      "Allison Baisch Kindergarten Teacher\n",
      "Keith Baune Principal\n",
      "Benham Allyson Grade 2 Teacher\n",
      "Bessire Jeff Physical Education/DAPE Teacher\n",
      "Bixby Tyler Educational Assistant (SPED)\n",
      "Brueggemeier-Swanson Shannon Educational Assistant\n",
      "Burdick Jessica Learning Disabilities Teacher\n",
      "Chapman Alycia Custodial/Maintenance Night Lead\n",
      "Clemensen Thomas Custodial Maintenance\n"
     ]
    }
   ],
   "source": [
    "\n",
    "    \n",
    "# card_list"
   ]
  }
 ],
 "metadata": {
  "kernelspec": {
   "display_name": "Python 3",
   "language": "python",
   "name": "python3"
  },
  "language_info": {
   "codemirror_mode": {
    "name": "ipython",
    "version": 3
   },
   "file_extension": ".py",
   "mimetype": "text/x-python",
   "name": "python",
   "nbconvert_exporter": "python",
   "pygments_lexer": "ipython3",
   "version": "3.12.2"
  }
 },
 "nbformat": 4,
 "nbformat_minor": 2
}
